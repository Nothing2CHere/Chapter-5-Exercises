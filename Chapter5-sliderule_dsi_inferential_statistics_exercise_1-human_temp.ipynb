{
 "cells": [
  {
   "cell_type": "markdown",
   "metadata": {},
   "source": [
    "# What is the True Normal Human Body Temperature? \n",
    "\n",
    "#### Background\n",
    "\n",
    "The mean normal body temperature was held to be 37$^{\\circ}$C or 98.6$^{\\circ}$F for more than 120 years since it was first conceptualized and reported by Carl Wunderlich in a famous 1868 book. But, is this value statistically correct?"
   ]
  },
  {
   "cell_type": "markdown",
   "metadata": {},
   "source": [
    "<div class=\"span5 alert alert-info\">\n",
    "<h3>Exercises</h3>\n",
    "\n",
    "<p>In this exercise, you will analyze a dataset of human body temperatures and employ the concepts of hypothesis testing, confidence intervals, and statistical significance.</p>\n",
    "\n",
    "<p>Answer the following questions <b>in this notebook below and submit to your Github account</b>.</p> \n",
    "\n",
    "<ol>\n",
    "<li>  Is the distribution of body temperatures normal? \n",
    "    <ul>\n",
    "    <li> Although this is not a requirement for CLT to hold (read CLT carefully), it gives us some peace of mind that the population may also be normally distributed if we assume that this sample is representative of the population.\n",
    "    </ul>\n",
    "<li>  Is the sample size large? Are the observations independent?\n",
    "    <ul>\n",
    "    <li> Remember that this is a condition for the CLT, and hence the statistical tests we are using, to apply.\n",
    "    </ul>\n",
    "<li>  Is the true population mean really 98.6 degrees F?\n",
    "    <ul>\n",
    "    <li> Would you use a one-sample or two-sample test? Why?\n",
    "    <li> In this situation, is it appropriate to use the $t$ or $z$ statistic? \n",
    "    <li> Now try using the other test. How is the result be different? Why?\n",
    "    </ul>\n",
    "<li>  At what temperature should we consider someone's temperature to be \"abnormal\"?\n",
    "    <ul>\n",
    "    <li> Start by computing the margin of error and confidence interval.\n",
    "    </ul>\n",
    "<li>  Is there a significant difference between males and females in normal temperature?\n",
    "    <ul>\n",
    "    <li> What test did you use and why?\n",
    "    <li> Write a story with your conclusion in the context of the original problem.\n",
    "    </ul>\n",
    "</ol>\n",
    "\n",
    "You can include written notes in notebook cells using Markdown: \n",
    "   - In the control panel at the top, choose Cell > Cell Type > Markdown\n",
    "   - Markdown syntax: http://nestacms.com/docs/creating-content/markdown-cheat-sheet\n",
    "\n",
    "#### Resources\n",
    "\n",
    "+ Information and data sources: http://www.amstat.org/publications/jse/datasets/normtemp.txt, http://www.amstat.org/publications/jse/jse_data_archive.htm\n",
    "+ Markdown syntax: http://nestacms.com/docs/creating-content/markdown-cheat-sheet\n",
    "\n",
    "****"
   ]
  },
  {
   "cell_type": "code",
   "execution_count": 42,
   "metadata": {
    "collapsed": true
   },
   "outputs": [],
   "source": [
    "%matplotlib inline\n",
    "import pandas as pd\n",
    "import numpy as np\n",
    "from pandas import DataFrame, Series\n",
    "import matplotlib.pyplot as plt\n",
    "import matplotlib\n",
    "import math\n",
    "plt.style.use('ggplot')\n",
    "df = pd.read_csv('data/human_body_temperature.csv')"
   ]
  },
  {
   "cell_type": "code",
   "execution_count": 31,
   "metadata": {
    "collapsed": false
   },
   "outputs": [
    {
     "data": {
      "text/html": [
       "<div>\n",
       "<table border=\"1\" class=\"dataframe\">\n",
       "  <thead>\n",
       "    <tr style=\"text-align: right;\">\n",
       "      <th></th>\n",
       "      <th>temperature</th>\n",
       "      <th>gender</th>\n",
       "      <th>heart_rate</th>\n",
       "    </tr>\n",
       "  </thead>\n",
       "  <tbody>\n",
       "    <tr>\n",
       "      <th>0</th>\n",
       "      <td>99.3</td>\n",
       "      <td>F</td>\n",
       "      <td>68.0</td>\n",
       "    </tr>\n",
       "    <tr>\n",
       "      <th>1</th>\n",
       "      <td>98.4</td>\n",
       "      <td>F</td>\n",
       "      <td>81.0</td>\n",
       "    </tr>\n",
       "    <tr>\n",
       "      <th>2</th>\n",
       "      <td>97.8</td>\n",
       "      <td>M</td>\n",
       "      <td>73.0</td>\n",
       "    </tr>\n",
       "    <tr>\n",
       "      <th>3</th>\n",
       "      <td>99.2</td>\n",
       "      <td>F</td>\n",
       "      <td>66.0</td>\n",
       "    </tr>\n",
       "    <tr>\n",
       "      <th>4</th>\n",
       "      <td>98.0</td>\n",
       "      <td>F</td>\n",
       "      <td>73.0</td>\n",
       "    </tr>\n",
       "  </tbody>\n",
       "</table>\n",
       "</div>"
      ],
      "text/plain": [
       "   temperature gender  heart_rate\n",
       "0         99.3      F        68.0\n",
       "1         98.4      F        81.0\n",
       "2         97.8      M        73.0\n",
       "3         99.2      F        66.0\n",
       "4         98.0      F        73.0"
      ]
     },
     "execution_count": 31,
     "metadata": {},
     "output_type": "execute_result"
    }
   ],
   "source": [
    "df.head()"
   ]
  },
  {
   "cell_type": "markdown",
   "metadata": {
    "collapsed": true
   },
   "source": [
    "Question 1 Answer:  \n",
    "Temperature sample distribution is somewhat normal...see chart below\n",
    "\n",
    "Question 2 Answer:\n",
    "Sample size is >30 so it is considered a large sample size.\n",
    "Samples are independent because each sample person is unrelated to other sample people as best we know.\n",
    "\n",
    "Question 3 Answer:\n",
    "98.6 degrees is outside the 95% confidence interval suggesting that the population mean is unlikely to be 98.6 degrees.\n",
    "Would use a 1 sample test because estimating the mean of a population and not comparing 2 sample distributions.\n",
    "Would use the z statistic instead of t statistic because sample size is large (>30).\n",
    "Using t statistic yields same result at z statistic since both look up tables have a score of 1.96 for 95% CI.\n",
    "Can't use the 2 sample test because we don't have 2 sample distributions.  But computing a Z score of hypothesized population mean of 98.6 compared to sample mean shows a very high or unlikely z score of 5.45.\n",
    "\n",
    "Question 4 Answer:\n",
    "1 persons temperature would be considered abnormal if outside the 95% confidence interval for a sample size of 1.\n",
    "Margin of error = 1.96 * 0.73 = 1.44     95% CI  96.8-99.7\n",
    "\n",
    "Question 5 Answer (2 methods):\n",
    "\n",
    "Method 1 Hypothesis Test:  \n",
    "Null Hypothesis is that the temp difference between male and female samples is 0 or insignificant.\n",
    "Alternative Hypothesis is that females do have higher temps then male.\n",
    "Calculate a 95% critical value where we believe that the female temps are not higher then male temps.\n",
    "     ## Critical value = 1.65 * combined sample std = 0.21\n",
    "Since mean sample female temp - mean sample male temp = 0.29 which is greater then the 95% critical value we thus reject the Null Hypothesis and accept the Alternative Hypothesis that females temps are higher then male temps and the difference is not due to random sampling error.\n",
    "\n",
    "Method 2 by rerandomizing the combined sample 1000 times and see how often the first half of the samples vs the second half of the samples shows a difference equal or greater then the male vs female sample difference:\n",
    "\n",
    "\n"
   ]
  },
  {
   "cell_type": "code",
   "execution_count": 64,
   "metadata": {
    "collapsed": false
   },
   "outputs": [
    {
     "data": {
      "text/plain": [
       "<matplotlib.axes._subplots.AxesSubplot at 0x26990c28a90>"
      ]
     },
     "execution_count": 64,
     "metadata": {},
     "output_type": "execute_result"
    },
    {
     "data": {
      "image/png": "[encoded data removed]",
      "text/plain": [
       "<matplotlib.figure.Figure at 0x26990c18668>"
      ]
     },
     "metadata": {},
     "output_type": "display_data"
    }
   ],
   "source": [
    "# Histogram of raw data\n",
    "df['temperature'].plot.hist(bins=15)"
   ]
  },
  {
   "cell_type": "code",
   "execution_count": 65,
   "metadata": {
    "collapsed": false
   },
   "outputs": [
    {
     "name": "stdout",
     "output_type": "stream",
     "text": [
      "Sample Mean 98.24923076923078\n",
      "Sample Standard deviation 0.7331831580389454\n",
      "Standard Error 0.06430441683789101\n",
      "95% Confidence Interval  98.12319411222852 , 98.37526742623304\n",
      "Z score of 98.6 mean vs Sample mean  5.454823292364079\n"
     ]
    }
   ],
   "source": [
    "# Question3:  computing the 95% confidence interval - z statistic of +/- 1.96\n",
    "print('Sample Mean', df['temperature'].mean())\n",
    "print('Sample Standard deviation', df['temperature'].std())\n",
    "print('Standard Error', df['temperature'].std() / math.sqrt(130))\n",
    "print('95% Confidence Interval ',(df['temperature'].mean() - (1.96 * df['temperature'].std() / math.sqrt(130))), ',',(df['temperature'].mean() + (1.96 * df['temperature'].std() / math.sqrt(130))) )\n",
    "print('Z score of 98.6 mean vs Sample mean ',((98.6 - df['temperature'].mean()) / (df['temperature'].std() / math.sqrt(130))))"
   ]
  },
  {
   "cell_type": "code",
   "execution_count": null,
   "metadata": {
    "collapsed": false
   },
   "outputs": [],
   "source": []
  },
  {
   "cell_type": "code",
   "execution_count": 84,
   "metadata": {
    "collapsed": false
   },
   "outputs": [
    {
     "name": "stdout",
     "output_type": "stream",
     "text": [
      "Margin of Error  1.437038989756333\n",
      "95% CI  96.81219177947445 , 99.68626975898711\n"
     ]
    }
   ],
   "source": [
    "# Question 4:  95% confidence interval using z statistic (+/- 1.96)\n",
    "print('Margin of Error ', df['temperature'].std()*1.96)\n",
    "print('95% CI ',(df['temperature'].mean() - (1.96 * df['temperature'].std())), ',',(df['temperature'].mean() + (1.96 * df['temperature'].std())))"
   ]
  },
  {
   "cell_type": "code",
   "execution_count": 114,
   "metadata": {
    "collapsed": false
   },
   "outputs": [
    {
     "name": "stdout",
     "output_type": "stream",
     "text": [
      "Male Temp Mean / Std / Sample Size =  98.1046153846154 0.6987557623265908 65\n",
      "Female Temp Mean / Std / Sample Size =  98.39384615384613 0.7434877527313665 65\n",
      "Female - Male Temp Difference =  0.289230769230727\n",
      " \n",
      "Std of the difference of the 2 samples =  0.12655395041982642\n",
      "95% critical value =   0.20881401819271359\n"
     ]
    }
   ],
   "source": [
    "# Question 5 Method 1:\n",
    "male = df[df.gender=='M']\n",
    "female = df[df.gender=='F']\n",
    "print('Male Temp Mean / Std / Sample Size = ', male['temperature'].mean(),male['temperature'].std(),male['temperature'].count())\n",
    "print('Female Temp Mean / Std / Sample Size = ', female['temperature'].mean(),female['temperature'].std(),female['temperature'].count())\n",
    "temp_diff = female['temperature'].mean() - male['temperature'].mean()\n",
    "print('Female - Male Temp Difference = ', temp_diff)\n",
    "print(' ')\n",
    "std_of_2_samples = math.sqrt((male['temperature'].std()**2 / male['temperature'].count()) + (female['temperature'].std()**2 / female['temperature'].count()))\n",
    "print('Std of the difference of the 2 samples = ', std_of_2_samples)\n",
    "print('95% critical value =  ', 1.65 * std_of_2_samples)\n"
   ]
  },
  {
   "cell_type": "code",
   "execution_count": null,
   "metadata": {
    "collapsed": true
   },
   "outputs": [],
   "source": [
    "# Question 5 Method 2:\n",
    "\n",
    "\n",
    "\n"
   ]
  },
  {
   "cell_type": "code",
   "execution_count": null,
   "metadata": {
    "collapsed": true
   },
   "outputs": [],
   "source": []
  },
  {
   "cell_type": "code",
   "execution_count": null,
   "metadata": {
    "collapsed": true
   },
   "outputs": [],
   "source": []
  },
  {
   "cell_type": "code",
   "execution_count": null,
   "metadata": {
    "collapsed": true
   },
   "outputs": [],
   "source": []
  },
  {
   "cell_type": "code",
   "execution_count": null,
   "metadata": {
    "collapsed": true
   },
   "outputs": [],
   "source": []
  }
 ],
 "metadata": {
  "anaconda-cloud": {},
  "kernelspec": {
   "display_name": "Python [conda root]",
   "language": "python",
   "name": "conda-root-py"
  },
  "language_info": {
   "codemirror_mode": {
    "name": "ipython",
    "version": 3
   },
   "file_extension": ".py",
   "mimetype": "text/x-python",
   "name": "python",
   "nbconvert_exporter": "python",
   "pygments_lexer": "ipython3",
   "version": "3.5.2"
  }
 },
 "nbformat": 4,
 "nbformat_minor": 0
}
